{
 "cells": [
  {
   "cell_type": "code",
   "execution_count": 1,
   "source": [
    "from algo import Algo"
   ],
   "outputs": [],
   "metadata": {}
  },
  {
   "cell_type": "code",
   "execution_count": 2,
   "source": [
    "test_nmrp = Algo()"
   ],
   "outputs": [],
   "metadata": {}
  },
  {
   "cell_type": "code",
   "execution_count": 3,
   "source": [
    "test_nmrp.add_dancer(\"Arthur\", [\"City\"])\n",
    "test_nmrp.add_dancer(\"Sunny\", [\"City\", \"Mercy\"])\n",
    "test_nmrp.add_dancer(\"Joseph\", [\"City\", \"General\", \"Mercy\"])\n",
    "test_nmrp.add_dancer(\"Latha\", [\"Mercy\", \"City\", \"General\"])\n",
    "test_nmrp.add_dancer(\"Darrius\", [\"City\", \"Mercy\", \"General\"])"
   ],
   "outputs": [],
   "metadata": {}
  },
  {
   "cell_type": "code",
   "execution_count": 4,
   "source": [
    "test_nmrp.add_team(\"Mercy\", [\"Darrius\", \"Joseph\"], 2)\n",
    "test_nmrp.add_team(\"City\", [\"Darrius\", \"Arthur\", \"Sunny\", \"Latha\", \"Joseph\"], 2)\n",
    "test_nmrp.add_team(\"General\", [\"Darrius\", \"Arthur\", \"Joseph\", \"Latha\"], 2)"
   ],
   "outputs": [],
   "metadata": {}
  },
  {
   "cell_type": "code",
   "execution_count": 5,
   "source": [
    "test_nmrp.run()"
   ],
   "outputs": [
    {
     "output_type": "stream",
     "name": "stdout",
     "text": [
      "Arthur added to team City\n",
      "Sunny added to team City\n",
      "Joseph added to team General\n",
      "Latha not ranked by team Mercy\n",
      "Latha added to team General\n",
      "Darrius bumped Sunny from City\n",
      "Sunny not ranked by team Mercy\n",
      "Sunny out of teams. Unassigned :(\n"
     ]
    }
   ],
   "metadata": {}
  },
  {
   "cell_type": "code",
   "execution_count": 6,
   "source": [
    "test_nmrp.teams[\"Mercy\"].roster"
   ],
   "outputs": [
    {
     "output_type": "execute_result",
     "data": {
      "text/plain": [
       "[]"
      ]
     },
     "metadata": {},
     "execution_count": 6
    }
   ],
   "metadata": {}
  },
  {
   "cell_type": "code",
   "execution_count": 7,
   "source": [
    "test_nmrp.teams[\"City\"].roster"
   ],
   "outputs": [
    {
     "output_type": "execute_result",
     "data": {
      "text/plain": [
       "[[0, 'Darrius'], [1, 'Arthur']]"
      ]
     },
     "metadata": {},
     "execution_count": 7
    }
   ],
   "metadata": {}
  },
  {
   "cell_type": "code",
   "execution_count": 8,
   "source": [
    "test_nmrp.teams[\"General\"].roster"
   ],
   "outputs": [
    {
     "output_type": "execute_result",
     "data": {
      "text/plain": [
       "[[2, 'Joseph'], [3, 'Latha']]"
      ]
     },
     "metadata": {},
     "execution_count": 8
    }
   ],
   "metadata": {}
  },
  {
   "cell_type": "code",
   "execution_count": 9,
   "source": [
    "test_nmrp.rosters[\"unassigned\"]"
   ],
   "outputs": [
    {
     "output_type": "execute_result",
     "data": {
      "text/plain": [
       "['Sunny']"
      ]
     },
     "metadata": {},
     "execution_count": 9
    }
   ],
   "metadata": {}
  },
  {
   "cell_type": "code",
   "execution_count": null,
   "source": [],
   "outputs": [],
   "metadata": {}
  },
  {
   "cell_type": "code",
   "execution_count": null,
   "source": [],
   "outputs": [],
   "metadata": {}
  }
 ],
 "metadata": {
  "kernelspec": {
   "display_name": "Python 3 (ipykernel)",
   "language": "python",
   "name": "python3"
  },
  "language_info": {
   "codemirror_mode": {
    "name": "ipython",
    "version": 3
   },
   "file_extension": ".py",
   "mimetype": "text/x-python",
   "name": "python",
   "nbconvert_exporter": "python",
   "pygments_lexer": "ipython3",
   "version": "3.7.11"
  }
 },
 "nbformat": 4,
 "nbformat_minor": 5
}