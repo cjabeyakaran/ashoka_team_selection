{
 "cells": [
  {
   "cell_type": "code",
   "execution_count": 1,
   "id": "1aa1ed57",
   "metadata": {},
   "outputs": [],
   "source": [
    "from algo import Program"
   ]
  },
  {
   "cell_type": "code",
   "execution_count": 2,
   "id": "710122b2",
   "metadata": {},
   "outputs": [],
   "source": [
    "test_nmrp = Program()"
   ]
  },
  {
   "cell_type": "code",
   "execution_count": 3,
   "id": "771359db",
   "metadata": {},
   "outputs": [],
   "source": [
    "test_nmrp.add_dancer(\"Arthur\", [\"City\"])\n",
    "test_nmrp.add_dancer(\"Sunny\", [\"City\", \"Mercy\"])\n",
    "test_nmrp.add_dancer(\"Joseph\", [\"City\", \"General\", \"Mercy\"])\n",
    "test_nmrp.add_dancer(\"Latha\", [\"Mercy\", \"City\", \"General\"])\n",
    "test_nmrp.add_dancer(\"Darrius\", [\"City\", \"Mercy\", \"General\"])"
   ]
  },
  {
   "cell_type": "code",
   "execution_count": 4,
   "id": "c1b21b6a",
   "metadata": {},
   "outputs": [],
   "source": [
    "test_nmrp.add_team(\"Mercy\", [\"Darrius\", \"Joseph\"], 2)\n",
    "test_nmrp.add_team(\"City\", [\"Darrius\", \"Arthur\", \"Sunny\", \"Latha\", \"Joseph\"], 2)\n",
    "test_nmrp.add_team(\"General\", [\"Darrius\", \"Arthur\", \"Joseph\", \"Latha\"], 2)"
   ]
  },
  {
   "cell_type": "code",
   "execution_count": 5,
   "id": "e0054dcd",
   "metadata": {},
   "outputs": [
    {
     "name": "stdout",
     "output_type": "stream",
     "text": [
      "Arthur added to team City\n",
      "Sunny added to team City\n",
      "Joseph added to team General\n",
      "Latha not ranked by team Mercy\n",
      "Latha added to team General\n",
      "Darrius bumped Sunny from City\n",
      "Sunny not ranked by team Mercy\n",
      "Sunny out of teams. Unassigned :(\n"
     ]
    }
   ],
   "source": [
    "test_nmrp.run()"
   ]
  },
  {
   "cell_type": "code",
   "execution_count": 6,
   "id": "69f24849",
   "metadata": {},
   "outputs": [
    {
     "data": {
      "text/plain": [
       "[]"
      ]
     },
     "execution_count": 6,
     "metadata": {},
     "output_type": "execute_result"
    }
   ],
   "source": [
    "test_nmrp.teams[\"Mercy\"].roster"
   ]
  },
  {
   "cell_type": "code",
   "execution_count": 7,
   "id": "51fdf18e",
   "metadata": {},
   "outputs": [
    {
     "data": {
      "text/plain": [
       "[[0, 'Darrius'], [1, 'Arthur']]"
      ]
     },
     "execution_count": 7,
     "metadata": {},
     "output_type": "execute_result"
    }
   ],
   "source": [
    "test_nmrp.teams[\"City\"].roster"
   ]
  },
  {
   "cell_type": "code",
   "execution_count": 8,
   "id": "1c6bd2c0",
   "metadata": {},
   "outputs": [
    {
     "data": {
      "text/plain": [
       "[[2, 'Joseph'], [3, 'Latha']]"
      ]
     },
     "execution_count": 8,
     "metadata": {},
     "output_type": "execute_result"
    }
   ],
   "source": [
    "test_nmrp.teams[\"General\"].roster"
   ]
  },
  {
   "cell_type": "code",
   "execution_count": 9,
   "id": "c2c58d25",
   "metadata": {},
   "outputs": [
    {
     "data": {
      "text/plain": [
       "['Sunny']"
      ]
     },
     "execution_count": 9,
     "metadata": {},
     "output_type": "execute_result"
    }
   ],
   "source": [
    "test_nmrp.rosters[\"unassigned\"]"
   ]
  },
  {
   "cell_type": "code",
   "execution_count": null,
   "id": "aee9d30f",
   "metadata": {},
   "outputs": [],
   "source": []
  },
  {
   "cell_type": "code",
   "execution_count": null,
   "id": "6836c241",
   "metadata": {},
   "outputs": [],
   "source": []
  }
 ],
 "metadata": {
  "kernelspec": {
   "display_name": "Python 3 (ipykernel)",
   "language": "python",
   "name": "python3"
  },
  "language_info": {
   "codemirror_mode": {
    "name": "ipython",
    "version": 3
   },
   "file_extension": ".py",
   "mimetype": "text/x-python",
   "name": "python",
   "nbconvert_exporter": "python",
   "pygments_lexer": "ipython3",
   "version": "3.7.11"
  }
 },
 "nbformat": 4,
 "nbformat_minor": 5
}
